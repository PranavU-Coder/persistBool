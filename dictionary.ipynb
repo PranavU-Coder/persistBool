{
 "cells": [
  {
   "cell_type": "markdown",
   "id": "2d4c0171",
   "metadata": {},
   "source": [
    "imports"
   ]
  },
  {
   "cell_type": "code",
   "execution_count": 1,
   "id": "42f89509",
   "metadata": {},
   "outputs": [
    {
     "name": "stderr",
     "output_type": "stream",
     "text": [
      "2025-10-09 09:54:07.106123: E external/local_xla/xla/stream_executor/cuda/cuda_fft.cc:467] Unable to register cuFFT factory: Attempting to register factory for plugin cuFFT when one has already been registered\n",
      "WARNING: All log messages before absl::InitializeLog() is called are written to STDERR\n",
      "E0000 00:00:1759983847.122374   22617 cuda_dnn.cc:8579] Unable to register cuDNN factory: Attempting to register factory for plugin cuDNN when one has already been registered\n",
      "E0000 00:00:1759983847.127246   22617 cuda_blas.cc:1407] Unable to register cuBLAS factory: Attempting to register factory for plugin cuBLAS when one has already been registered\n",
      "W0000 00:00:1759983847.139767   22617 computation_placer.cc:177] computation placer already registered. Please check linkage and avoid linking the same target more than once.\n",
      "W0000 00:00:1759983847.139791   22617 computation_placer.cc:177] computation placer already registered. Please check linkage and avoid linking the same target more than once.\n",
      "W0000 00:00:1759983847.139794   22617 computation_placer.cc:177] computation placer already registered. Please check linkage and avoid linking the same target more than once.\n",
      "W0000 00:00:1759983847.139796   22617 computation_placer.cc:177] computation placer already registered. Please check linkage and avoid linking the same target more than once.\n",
      "2025-10-09 09:54:07.143676: I tensorflow/core/platform/cpu_feature_guard.cc:210] This TensorFlow binary is optimized to use available CPU instructions in performance-critical operations.\n",
      "To enable the following instructions: AVX2 FMA, in other operations, rebuild TensorFlow with the appropriate compiler flags.\n",
      "/home/pranav/Projects/persistBool/persistence/lib/python3.12/site-packages/tqdm/auto.py:21: TqdmWarning: IProgress not found. Please update jupyter and ipywidgets. See https://ipywidgets.readthedocs.io/en/stable/user_install.html\n",
      "  from .autonotebook import tqdm as notebook_tqdm\n"
     ]
    }
   ],
   "source": [
    "import tensorflow as tf\n",
    "import keras_nlp\n",
    "\n",
    "import random\n",
    "\n",
    "import matplotlib.pyplot as plt\n",
    "\n",
    "import pickle"
   ]
  },
  {
   "cell_type": "markdown",
   "id": "063bc0c0",
   "metadata": {},
   "source": [
    "hyperparameters"
   ]
  },
  {
   "cell_type": "code",
   "execution_count": 2,
   "id": "e8b7cabd",
   "metadata": {},
   "outputs": [],
   "source": [
    "SHUFFLE_BUFFER_SIZE = 10000\n",
    "PREFETCH_BUFFER_SIZE = tf.data.AUTOTUNE\n",
    "BATCH_SIZE = 128"
   ]
  },
  {
   "cell_type": "markdown",
   "id": "5e490f43",
   "metadata": {},
   "source": [
    "working on the actual dataset"
   ]
  },
  {
   "cell_type": "code",
   "execution_count": 3,
   "id": "8a1d8971",
   "metadata": {},
   "outputs": [
    {
     "name": "stdout",
     "output_type": "stream",
     "text": [
      "Train: 5431\n",
      "Test: 1358\n"
     ]
    }
   ],
   "source": [
    "with open('data/negative-words.txt', 'r', encoding='latin-1') as f:\n",
    "    neg_words = [line.strip() for line in f if line.strip()]\n",
    "    \n",
    "with open('data/positive-words.txt', 'r', encoding='latin-1') as f:\n",
    "    pos_words = [line.strip() for line in f if line.strip()]\n",
    "\n",
    "# 0 SIGNALS NEGATIVE WHEREAS 1 SIGNALS POSITIVE\n",
    "\n",
    "words = neg_words + pos_words\n",
    "labels = [0] * len(neg_words) + [1] * len(pos_words)\n",
    "\n",
    "combined = list(zip(words, labels))\n",
    "random.seed(42)\n",
    "random.shuffle(combined)\n",
    "\n",
    "words, labels = zip(*combined)\n",
    "words = list(words)\n",
    "labels = list(labels)\n",
    "\n",
    "total = len(words)\n",
    "train_end = int(0.8 * total)\n",
    "\n",
    "train_words = words[:train_end]\n",
    "train_labels = labels[:train_end]\n",
    "\n",
    "test_words = words[train_end:]\n",
    "test_labels = labels[train_end:]\n",
    "\n",
    "print(f\"Train: {len(train_words)}\")\n",
    "print(f\"Test: {len(test_words)}\")"
   ]
  },
  {
   "cell_type": "code",
   "execution_count": 4,
   "id": "0a8ec876",
   "metadata": {},
   "outputs": [
    {
     "name": "stderr",
     "output_type": "stream",
     "text": [
      "I0000 00:00:1759983855.116069   22617 gpu_device.cc:2019] Created device /job:localhost/replica:0/task:0/device:GPU:0 with 5196 MB memory:  -> device: 0, name: NVIDIA GeForce RTX 4060 Laptop GPU, pci bus id: 0000:01:00.0, compute capability: 8.9\n"
     ]
    }
   ],
   "source": [
    "word_dataset = tf.data.Dataset.from_tensor_slices(words)"
   ]
  },
  {
   "cell_type": "code",
   "execution_count": 5,
   "id": "d25f5264",
   "metadata": {},
   "outputs": [
    {
     "name": "stderr",
     "output_type": "stream",
     "text": [
      "2025-10-09 09:54:17.072249: I tensorflow/core/framework/local_rendezvous.cc:407] Local rendezvous is aborting with status: OUT_OF_RANGE: End of sequence\n"
     ]
    }
   ],
   "source": [
    "vocab = keras_nlp.tokenizers.compute_word_piece_vocabulary(\n",
    "    word_dataset.batch(BATCH_SIZE).prefetch(tf.data.AUTOTUNE),\n",
    "    vocabulary_size=5000, \n",
    "    lowercase=True,\n",
    "    reserved_tokens=[\"[PAD]\", \"[UNK]\", \"[START]\", \"[END]\"]\n",
    ")"
   ]
  },
  {
   "cell_type": "code",
   "execution_count": 6,
   "id": "dd5546cf",
   "metadata": {},
   "outputs": [
    {
     "name": "stdout",
     "output_type": "stream",
     "text": [
      "Vocabulary size: 309\n"
     ]
    }
   ],
   "source": [
    "VOCAB_SIZE = len(vocab)\n",
    "print(f\"Vocabulary size: {VOCAB_SIZE}\")"
   ]
  },
  {
   "cell_type": "code",
   "execution_count": 7,
   "id": "3daf55ac",
   "metadata": {},
   "outputs": [],
   "source": [
    "tokenizer = keras_nlp.tokenizers.WordPieceTokenizer(\n",
    "    vocabulary=vocab,\n",
    "    lowercase=True,\n",
    "    sequence_length=16\n",
    ")"
   ]
  },
  {
   "cell_type": "code",
   "execution_count": 8,
   "id": "accbedf2",
   "metadata": {},
   "outputs": [],
   "source": [
    "train_words_ds = tf.data.Dataset.from_tensor_slices(train_words)\n",
    "train_labels_ds = tf.data.Dataset.from_tensor_slices(train_labels)\n",
    "\n",
    "test_words_ds = tf.data.Dataset.from_tensor_slices(test_words)\n",
    "test_labels_ds = tf.data.Dataset.from_tensor_slices(test_labels)"
   ]
  },
  {
   "cell_type": "markdown",
   "id": "662b66a8",
   "metadata": {},
   "source": [
    "data pipeline"
   ]
  },
  {
   "cell_type": "code",
   "execution_count": 9,
   "id": "7e04e6f6",
   "metadata": {},
   "outputs": [],
   "source": [
    "train_sequences_subword = train_words_ds.map(\n",
    "    lambda word: tokenizer(word),\n",
    "    num_parallel_calls=tf.data.AUTOTUNE\n",
    ")\n",
    "\n",
    "test_sequences_subword = test_words_ds.map(\n",
    "    lambda word: tokenizer(word),\n",
    "    num_parallel_calls=tf.data.AUTOTUNE\n",
    ")"
   ]
  },
  {
   "cell_type": "code",
   "execution_count": 10,
   "id": "785c47ae",
   "metadata": {},
   "outputs": [],
   "source": [
    "train_dataset_vectorized = tf.data.Dataset.zip((train_sequences_subword, train_labels_ds))\n",
    "test_dataset_vectorized = tf.data.Dataset.zip((test_sequences_subword, test_labels_ds))\n",
    "\n",
    "\n",
    "train_dataset_final = (train_dataset_vectorized\n",
    "                       .shuffle(SHUFFLE_BUFFER_SIZE)\n",
    "                       .cache()\n",
    "                       .batch(BATCH_SIZE)\n",
    "                       .prefetch(buffer_size=PREFETCH_BUFFER_SIZE)\n",
    "                       )\n",
    "\n",
    "test_dataset_final = (test_dataset_vectorized\n",
    "                      .cache()\n",
    "                      .batch(BATCH_SIZE)\n",
    "                      .prefetch(buffer_size=PREFETCH_BUFFER_SIZE)\n",
    "                      )"
   ]
  },
  {
   "cell_type": "markdown",
   "id": "f7664dea",
   "metadata": {},
   "source": [
    "sanity check"
   ]
  },
  {
   "cell_type": "code",
   "execution_count": 11,
   "id": "71d20dca",
   "metadata": {},
   "outputs": [
    {
     "name": "stdout",
     "output_type": "stream",
     "text": [
      "(<tf.Tensor: shape=(128, 16), dtype=int32, numpy=\n",
      "array([[ 27,  50, 134, ...,   0,   0,   0],\n",
      "       [  9, 304, 160, ...,   0,   0,   0],\n",
      "       [ 12, 306, 300, ...,   0,   0,   0],\n",
      "       ...,\n",
      "       [  8,  39,  70, ...,   0,   0,   0],\n",
      "       [ 10, 123, 153, ...,   0,   0,   0],\n",
      "       [ 26, 134, 212, ...,   0,   0,   0]], dtype=int32)>, <tf.Tensor: shape=(128,), dtype=int32, numpy=\n",
      "array([0, 0, 1, 0, 0, 0, 0, 1, 0, 0, 1, 0, 0, 0, 1, 1, 0, 0, 0, 1, 0, 0,\n",
      "       0, 1, 0, 0, 0, 0, 1, 0, 0, 0, 0, 0, 0, 0, 1, 0, 0, 1, 0, 0, 1, 0,\n",
      "       0, 0, 1, 0, 0, 0, 0, 0, 0, 0, 0, 0, 0, 0, 0, 0, 0, 0, 0, 0, 1, 0,\n",
      "       0, 0, 0, 0, 0, 0, 0, 1, 0, 0, 0, 0, 0, 0, 0, 1, 1, 0, 0, 0, 0, 0,\n",
      "       0, 1, 1, 1, 0, 1, 1, 1, 0, 0, 0, 1, 0, 0, 0, 0, 1, 0, 0, 1, 1, 1,\n",
      "       0, 0, 0, 0, 1, 0, 1, 1, 0, 1, 0, 1, 1, 1, 0, 1, 0, 1], dtype=int32)>)\n",
      "\n",
      "(<tf.Tensor: shape=(128, 16), dtype=int32, numpy=\n",
      "array([[ 11, 301,  35, ...,   0,   0,   0],\n",
      "       [ 13,  74, 108, ...,   0,   0,   0],\n",
      "       [  8, 165,  95, ...,   0,   0,   0],\n",
      "       ...,\n",
      "       [ 16,  76,  45, ...,   0,   0,   0],\n",
      "       [ 18,  42,  73, ...,   0,   0,   0],\n",
      "       [ 11, 301,  50, ...,   0,   0,   0]], dtype=int32)>, <tf.Tensor: shape=(128,), dtype=int32, numpy=\n",
      "array([0, 0, 1, 0, 0, 0, 0, 1, 0, 0, 1, 0, 0, 1, 0, 0, 1, 1, 0, 0, 0, 0,\n",
      "       0, 0, 0, 0, 0, 0, 0, 0, 0, 0, 0, 0, 0, 0, 1, 1, 0, 0, 0, 0, 0, 0,\n",
      "       1, 0, 0, 0, 0, 1, 0, 1, 1, 0, 1, 0, 0, 1, 0, 1, 0, 1, 0, 1, 0, 1,\n",
      "       0, 0, 0, 0, 0, 1, 0, 0, 0, 0, 0, 0, 1, 0, 0, 1, 0, 0, 0, 1, 1, 1,\n",
      "       0, 0, 1, 0, 0, 0, 1, 0, 1, 0, 0, 0, 1, 0, 0, 0, 0, 1, 0, 0, 0, 0,\n",
      "       0, 1, 1, 0, 0, 1, 0, 0, 0, 0, 0, 0, 1, 0, 0, 0, 1, 0], dtype=int32)>)\n",
      "\n"
     ]
    },
    {
     "name": "stderr",
     "output_type": "stream",
     "text": [
      "2025-10-09 09:54:35.248168: W tensorflow/core/kernels/data/cache_dataset_ops.cc:916] The calling iterator did not fully read the dataset being cached. In order to avoid unexpected truncation of the dataset, the partially cached contents of the dataset  will be discarded. This can happen if you have an input pipeline similar to `dataset.cache().take(k).repeat()`. You should use `dataset.take(k).cache().repeat()` instead.\n",
      "2025-10-09 09:54:35.249272: I tensorflow/core/framework/local_rendezvous.cc:407] Local rendezvous is aborting with status: OUT_OF_RANGE: End of sequence\n"
     ]
    }
   ],
   "source": [
    "for example in train_dataset_final.take(2):\n",
    "  print(example)\n",
    "  print()"
   ]
  },
  {
   "cell_type": "markdown",
   "id": "4209d57e",
   "metadata": {},
   "source": [
    "a function to plot accuracy and the loss function against epochs"
   ]
  },
  {
   "cell_type": "code",
   "execution_count": 12,
   "id": "56857076",
   "metadata": {},
   "outputs": [],
   "source": [
    "def plot_loss_acc(history):\n",
    "\n",
    "    train_acc = history.history['accuracy']        \n",
    "    test_acc = history.history['val_accuracy']     \n",
    "    train_loss = history.history['loss']           \n",
    "    test_loss = history.history['val_loss']        \n",
    "\n",
    "    epochs = range(len(train_acc))\n",
    "\n",
    "    fig, ax = plt.subplots(1, 2, figsize=(12, 6))\n",
    "    \n",
    "    ax[0].plot(epochs, train_acc, 'bo', label='Training accuracy')\n",
    "    ax[0].plot(epochs, test_acc, 'b', label='Validation accuracy')\n",
    "    ax[0].set_title('Training and Validation accuracy')\n",
    "    ax[0].set_xlabel('Epochs')\n",
    "    ax[0].set_ylabel('Accuracy')\n",
    "    ax[0].legend()\n",
    "\n",
    "    ax[1].plot(epochs, train_loss, 'bo', label='Training Loss')\n",
    "    ax[1].plot(epochs, test_loss, 'b', label='Validation Loss')\n",
    "    ax[1].set_title('Training and Validation loss')\n",
    "    ax[1].set_xlabel('Epochs')\n",
    "    ax[1].set_ylabel('Loss')\n",
    "    ax[1].legend()\n",
    "\n",
    "    plt.tight_layout()\n",
    "    plt.show()\n"
   ]
  },
  {
   "cell_type": "markdown",
   "id": "34f3e171",
   "metadata": {},
   "source": [
    "using single LSTMs"
   ]
  },
  {
   "cell_type": "code",
   "execution_count": 13,
   "id": "f8f4ea0f",
   "metadata": {},
   "outputs": [
    {
     "data": {
      "text/html": [
       "<pre style=\"white-space:pre;overflow-x:auto;line-height:normal;font-family:Menlo,'DejaVu Sans Mono',consolas,'Courier New',monospace\"><span style=\"font-weight: bold\">Model: \"sequential\"</span>\n",
       "</pre>\n"
      ],
      "text/plain": [
       "\u001b[1mModel: \"sequential\"\u001b[0m\n"
      ]
     },
     "metadata": {},
     "output_type": "display_data"
    },
    {
     "data": {
      "text/html": [
       "<pre style=\"white-space:pre;overflow-x:auto;line-height:normal;font-family:Menlo,'DejaVu Sans Mono',consolas,'Courier New',monospace\">┏━━━━━━━━━━━━━━━━━━━━━━━━━━━━━━━━━┳━━━━━━━━━━━━━━━━━━━━━━━━┳━━━━━━━━━━━━━━━┓\n",
       "┃<span style=\"font-weight: bold\"> Layer (type)                    </span>┃<span style=\"font-weight: bold\"> Output Shape           </span>┃<span style=\"font-weight: bold\">       Param # </span>┃\n",
       "┡━━━━━━━━━━━━━━━━━━━━━━━━━━━━━━━━━╇━━━━━━━━━━━━━━━━━━━━━━━━╇━━━━━━━━━━━━━━━┩\n",
       "│ embedding (<span style=\"color: #0087ff; text-decoration-color: #0087ff\">Embedding</span>)           │ (<span style=\"color: #00d7ff; text-decoration-color: #00d7ff\">None</span>, <span style=\"color: #00af00; text-decoration-color: #00af00\">16</span>, <span style=\"color: #00af00; text-decoration-color: #00af00\">16</span>)         │         <span style=\"color: #00af00; text-decoration-color: #00af00\">4,944</span> │\n",
       "├─────────────────────────────────┼────────────────────────┼───────────────┤\n",
       "│ bidirectional (<span style=\"color: #0087ff; text-decoration-color: #0087ff\">Bidirectional</span>)   │ (<span style=\"color: #00d7ff; text-decoration-color: #00d7ff\">None</span>, <span style=\"color: #00af00; text-decoration-color: #00af00\">64</span>)             │        <span style=\"color: #00af00; text-decoration-color: #00af00\">12,544</span> │\n",
       "├─────────────────────────────────┼────────────────────────┼───────────────┤\n",
       "│ dense (<span style=\"color: #0087ff; text-decoration-color: #0087ff\">Dense</span>)                   │ (<span style=\"color: #00d7ff; text-decoration-color: #00d7ff\">None</span>, <span style=\"color: #00af00; text-decoration-color: #00af00\">6</span>)              │           <span style=\"color: #00af00; text-decoration-color: #00af00\">390</span> │\n",
       "├─────────────────────────────────┼────────────────────────┼───────────────┤\n",
       "│ dense_1 (<span style=\"color: #0087ff; text-decoration-color: #0087ff\">Dense</span>)                 │ (<span style=\"color: #00d7ff; text-decoration-color: #00d7ff\">None</span>, <span style=\"color: #00af00; text-decoration-color: #00af00\">1</span>)              │             <span style=\"color: #00af00; text-decoration-color: #00af00\">7</span> │\n",
       "└─────────────────────────────────┴────────────────────────┴───────────────┘\n",
       "</pre>\n"
      ],
      "text/plain": [
       "┏━━━━━━━━━━━━━━━━━━━━━━━━━━━━━━━━━┳━━━━━━━━━━━━━━━━━━━━━━━━┳━━━━━━━━━━━━━━━┓\n",
       "┃\u001b[1m \u001b[0m\u001b[1mLayer (type)                   \u001b[0m\u001b[1m \u001b[0m┃\u001b[1m \u001b[0m\u001b[1mOutput Shape          \u001b[0m\u001b[1m \u001b[0m┃\u001b[1m \u001b[0m\u001b[1m      Param #\u001b[0m\u001b[1m \u001b[0m┃\n",
       "┡━━━━━━━━━━━━━━━━━━━━━━━━━━━━━━━━━╇━━━━━━━━━━━━━━━━━━━━━━━━╇━━━━━━━━━━━━━━━┩\n",
       "│ embedding (\u001b[38;5;33mEmbedding\u001b[0m)           │ (\u001b[38;5;45mNone\u001b[0m, \u001b[38;5;34m16\u001b[0m, \u001b[38;5;34m16\u001b[0m)         │         \u001b[38;5;34m4,944\u001b[0m │\n",
       "├─────────────────────────────────┼────────────────────────┼───────────────┤\n",
       "│ bidirectional (\u001b[38;5;33mBidirectional\u001b[0m)   │ (\u001b[38;5;45mNone\u001b[0m, \u001b[38;5;34m64\u001b[0m)             │        \u001b[38;5;34m12,544\u001b[0m │\n",
       "├─────────────────────────────────┼────────────────────────┼───────────────┤\n",
       "│ dense (\u001b[38;5;33mDense\u001b[0m)                   │ (\u001b[38;5;45mNone\u001b[0m, \u001b[38;5;34m6\u001b[0m)              │           \u001b[38;5;34m390\u001b[0m │\n",
       "├─────────────────────────────────┼────────────────────────┼───────────────┤\n",
       "│ dense_1 (\u001b[38;5;33mDense\u001b[0m)                 │ (\u001b[38;5;45mNone\u001b[0m, \u001b[38;5;34m1\u001b[0m)              │             \u001b[38;5;34m7\u001b[0m │\n",
       "└─────────────────────────────────┴────────────────────────┴───────────────┘\n"
      ]
     },
     "metadata": {},
     "output_type": "display_data"
    },
    {
     "data": {
      "text/html": [
       "<pre style=\"white-space:pre;overflow-x:auto;line-height:normal;font-family:Menlo,'DejaVu Sans Mono',consolas,'Courier New',monospace\"><span style=\"font-weight: bold\"> Total params: </span><span style=\"color: #00af00; text-decoration-color: #00af00\">17,885</span> (69.86 KB)\n",
       "</pre>\n"
      ],
      "text/plain": [
       "\u001b[1m Total params: \u001b[0m\u001b[38;5;34m17,885\u001b[0m (69.86 KB)\n"
      ]
     },
     "metadata": {},
     "output_type": "display_data"
    },
    {
     "data": {
      "text/html": [
       "<pre style=\"white-space:pre;overflow-x:auto;line-height:normal;font-family:Menlo,'DejaVu Sans Mono',consolas,'Courier New',monospace\"><span style=\"font-weight: bold\"> Trainable params: </span><span style=\"color: #00af00; text-decoration-color: #00af00\">17,885</span> (69.86 KB)\n",
       "</pre>\n"
      ],
      "text/plain": [
       "\u001b[1m Trainable params: \u001b[0m\u001b[38;5;34m17,885\u001b[0m (69.86 KB)\n"
      ]
     },
     "metadata": {},
     "output_type": "display_data"
    },
    {
     "data": {
      "text/html": [
       "<pre style=\"white-space:pre;overflow-x:auto;line-height:normal;font-family:Menlo,'DejaVu Sans Mono',consolas,'Courier New',monospace\"><span style=\"font-weight: bold\"> Non-trainable params: </span><span style=\"color: #00af00; text-decoration-color: #00af00\">0</span> (0.00 B)\n",
       "</pre>\n"
      ],
      "text/plain": [
       "\u001b[1m Non-trainable params: \u001b[0m\u001b[38;5;34m0\u001b[0m (0.00 B)\n"
      ]
     },
     "metadata": {},
     "output_type": "display_data"
    }
   ],
   "source": [
    "EMBEDDING_DIM = 16\n",
    "LSTM_DIM = 32\n",
    "DENSE_DIM = 6\n",
    "MAX_LENGTH = 16\n",
    "\n",
    "model_lstm = tf.keras.Sequential([\n",
    "    tf.keras.Input(shape=(MAX_LENGTH,)),\n",
    "    tf.keras.layers.Embedding(input_dim=VOCAB_SIZE, output_dim=EMBEDDING_DIM),\n",
    "    tf.keras.layers.Bidirectional(tf.keras.layers.LSTM(LSTM_DIM)),\n",
    "    tf.keras.layers.Dense(DENSE_DIM, activation='relu'),\n",
    "    tf.keras.layers.Dense(1, activation='sigmoid')\n",
    "])\n",
    "\n",
    "model_lstm.compile(loss='binary_crossentropy',optimizer='adam',metrics=['accuracy'])\n",
    "\n",
    "model_lstm.summary()"
   ]
  },
  {
   "cell_type": "markdown",
   "id": "01f011cf",
   "metadata": {},
   "source": [
    "early callback function"
   ]
  },
  {
   "cell_type": "code",
   "execution_count": 14,
   "id": "9656fb4f",
   "metadata": {},
   "outputs": [],
   "source": [
    "class EarlyStoppingCallback(tf.keras.callbacks.Callback):\n",
    "    def on_epoch_end(self, epoch, logs=None):\n",
    "        if logs['val_loss']<0.55:\n",
    "            self.model.stop_training = True\n",
    "            print(\"\\nReached a decent enough (still bad) guess from the model thus far.\")"
   ]
  },
  {
   "cell_type": "markdown",
   "id": "e1d0428d",
   "metadata": {},
   "source": [
    "actual model training"
   ]
  },
  {
   "cell_type": "code",
   "execution_count": 15,
   "id": "34b4b8e0",
   "metadata": {},
   "outputs": [
    {
     "name": "stdout",
     "output_type": "stream",
     "text": [
      "Epoch 1/45\n"
     ]
    },
    {
     "name": "stderr",
     "output_type": "stream",
     "text": [
      "I0000 00:00:1759983888.595319   22692 cuda_dnn.cc:529] Loaded cuDNN version 91301\n"
     ]
    },
    {
     "name": "stdout",
     "output_type": "stream",
     "text": [
      "43/43 - 3s - 72ms/step - accuracy: 0.6955 - loss: 0.6270 - val_accuracy: 0.7077 - val_loss: 0.6021\n",
      "Epoch 2/45\n",
      "43/43 - 0s - 6ms/step - accuracy: 0.7037 - loss: 0.6009 - val_accuracy: 0.7077 - val_loss: 0.5858\n",
      "Epoch 3/45\n",
      "43/43 - 0s - 6ms/step - accuracy: 0.7078 - loss: 0.5708 - val_accuracy: 0.7342 - val_loss: 0.5507\n",
      "Epoch 4/45\n",
      "\n",
      "Reached a decent enough (still bad) guess from the model thus far.\n",
      "43/43 - 0s - 6ms/step - accuracy: 0.7363 - loss: 0.5383 - val_accuracy: 0.7275 - val_loss: 0.5413\n"
     ]
    }
   ],
   "source": [
    "NUM_EPOCHS = 45\n",
    "\n",
    "history_lstm = model_lstm.fit(train_dataset_final, epochs=NUM_EPOCHS, validation_data=test_dataset_final, verbose=2, callbacks = [EarlyStoppingCallback()])"
   ]
  },
  {
   "cell_type": "code",
   "execution_count": 16,
   "id": "da53a806",
   "metadata": {},
   "outputs": [
    {
     "data": {
      "image/png": "[encoded data removed]",
      "text/plain": [
       "<Figure size 1200x600 with 2 Axes>"
      ]
     },
     "metadata": {},
     "output_type": "display_data"
    }
   ],
   "source": [
    "plot_loss_acc(history_lstm)"
   ]
  },
  {
   "cell_type": "code",
   "execution_count": 17,
   "id": "6744b4be",
   "metadata": {},
   "outputs": [],
   "source": [
    "with open('model.pkl','wb') as f:\n",
    "    pickle.dump(history_lstm.history , f)"
   ]
  },
  {
   "cell_type": "markdown",
   "id": "ebd2c13a",
   "metadata": {},
   "source": [
    "the final model is moved to /models dir"
   ]
  }
 ],
 "metadata": {
  "kernelspec": {
   "display_name": "persistence",
   "language": "python",
   "name": "python3"
  },
  "language_info": {
   "codemirror_mode": {
    "name": "ipython",
    "version": 3
   },
   "file_extension": ".py",
   "mimetype": "text/x-python",
   "name": "python",
   "nbconvert_exporter": "python",
   "pygments_lexer": "ipython3",
   "version": "3.12.11"
  }
 },
 "nbformat": 4,
 "nbformat_minor": 5
}
